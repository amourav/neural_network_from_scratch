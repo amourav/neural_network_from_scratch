{
 "cells": [
  {
   "cell_type": "code",
   "execution_count": 1,
   "metadata": {},
   "outputs": [],
   "source": [
    "from andreiNet.neural_net import NeuralNetwork\n",
    "from andreiNet.utils import norm_data, one_hot_encode"
   ]
  },
  {
   "cell_type": "code",
   "execution_count": 2,
   "metadata": {},
   "outputs": [],
   "source": [
    "from sklearn import datasets\n",
    "from sklearn.model_selection import train_test_split\n",
    "from sklearn.metrics import mean_squared_error\n",
    "import time\n",
    "import numpy as np\n",
    "import matplotlib.pyplot as plt"
   ]
  },
  {
   "cell_type": "code",
   "execution_count": 3,
   "metadata": {},
   "outputs": [
    {
     "name": "stdout",
     "output_type": "stream",
     "text": [
      "X_trn.shape = (253, 13), X_test.shape = (253, 13)\n"
     ]
    }
   ],
   "source": [
    "boston = datasets.load_boston()\n",
    "\n",
    "X = boston.data  \n",
    "y = boston.target\n",
    "\n",
    "#Choose Features \\\n",
    "feature_idxs = np.arange(X.shape[1]) # # SET FEATURES BY INDEX e.g. feature_idxs = [0, 1, 3] <------------------\n",
    "\n",
    "#feature_names = ['Sepal Length', 'Sepal Width', 'Petal Length', 'Petal Width']\n",
    "#xlbl, ylbl = feature_names[feature_idxs[0]], feature_names[feature_idxs[1]] \n",
    "# We will also split the dataset into training and testing so we can evaluate the kNN classifier\n",
    "X_trn_, X_test_, y_trn, y_test = train_test_split(X, \n",
    "                                                 y, \n",
    "                                                 test_size=0.5, \n",
    "                                                 random_state=2)\n",
    "X_trn, X_test = X_trn_[:, feature_idxs], X_test_[:, feature_idxs]\n",
    "\n",
    "print(\"X_trn.shape = {}, X_test.shape = {}\".format(X_trn.shape, X_test.shape))\n",
    "X_trn_norm, (trn_mean, trn_std) = norm_data(X_trn)\n",
    "X_test_norm = (X_test - trn_mean) / trn_std"
   ]
  },
  {
   "cell_type": "code",
   "execution_count": 4,
   "metadata": {},
   "outputs": [
    {
     "name": "stdout",
     "output_type": "stream",
     "text": [
      "model checkpoint 1\n",
      "model checkpoint 2\n",
      "model checkpoint 3\n",
      "model checkpoint 4\n",
      "model checkpoint 5\n",
      "model checkpoint 6\n",
      "model checkpoint 7\n",
      "model checkpoint 8\n",
      "model checkpoint 9\n",
      "model checkpoint 10\n",
      "model checkpoint 11\n",
      "model checkpoint 12\n",
      "model checkpoint 13\n",
      "model checkpoint 14\n",
      "model checkpoint 15\n",
      "model checkpoint 16\n",
      "model checkpoint 20\n",
      "model checkpoint 21\n",
      "model checkpoint 22\n",
      "model checkpoint 23\n",
      "model checkpoint 24\n",
      "model checkpoint 25\n",
      "model checkpoint 26\n",
      "model checkpoint 27\n",
      "model checkpoint 28\n",
      "model checkpoint 29\n",
      "model checkpoint 30\n",
      "model checkpoint 31\n",
      "model checkpoint 35\n",
      "model checkpoint 36\n",
      "model checkpoint 37\n",
      "model checkpoint 38\n",
      "model checkpoint 39\n",
      "model checkpoint 42\n",
      "model checkpoint 43\n",
      "model checkpoint 44\n",
      "model checkpoint 45\n",
      "model checkpoint 47\n",
      "model checkpoint 48\n",
      "model checkpoint 50\n",
      "model checkpoint 51\n",
      "model checkpoint 52\n",
      "model checkpoint 54\n",
      "model checkpoint 55\n",
      "model checkpoint 57\n",
      "model checkpoint 58\n",
      "model checkpoint 59\n",
      "model checkpoint 60\n",
      "model checkpoint 65\n",
      "model checkpoint 69\n",
      "model checkpoint 70\n",
      "model checkpoint 75\n",
      "model checkpoint 79\n",
      "model checkpoint 80\n",
      "model checkpoint 87\n",
      "model checkpoint 90\n",
      "model checkpoint 93\n",
      "model checkpoint 97\n",
      "model checkpoint 98\n",
      "model checkpoint 101\n",
      "model checkpoint 106\n",
      "model checkpoint 107\n",
      "model checkpoint 109\n",
      "model checkpoint 113\n",
      "model checkpoint 114\n",
      "model checkpoint 115\n",
      "model checkpoint 116\n",
      "model checkpoint 135\n",
      "model checkpoint 136\n",
      "model checkpoint 137\n",
      "model checkpoint 138\n",
      "model checkpoint 148\n",
      "model checkpoint 153\n",
      "model checkpoint 154\n",
      "model checkpoint 155\n",
      "model checkpoint 158\n",
      "model checkpoint 160\n",
      "model checkpoint 162\n",
      "model checkpoint 163\n",
      "model checkpoint 174\n",
      "model checkpoint 175\n",
      "model checkpoint 178\n",
      "model checkpoint 183\n",
      "model checkpoint 203\n",
      "model checkpoint 205\n",
      "model checkpoint 214\n",
      "model checkpoint 237\n",
      "model checkpoint 238\n",
      "model checkpoint 239\n",
      "model checkpoint 241\n",
      "model checkpoint 261\n",
      "model checkpoint 275\n",
      "model checkpoint 276\n",
      "model checkpoint 277\n",
      "model checkpoint 286\n",
      "model checkpoint 299\n",
      "model checkpoint 301\n",
      "model checkpoint 312\n",
      "model checkpoint 322\n",
      "model checkpoint 325\n",
      "model checkpoint 334\n",
      "model checkpoint 335\n",
      "model checkpoint 337\n",
      "model checkpoint 358\n",
      "model checkpoint 359\n",
      "model checkpoint 368\n",
      "model checkpoint 373\n",
      "model checkpoint 392\n",
      "model checkpoint 393\n",
      "model checkpoint 441\n",
      "model checkpoint 448\n",
      "model checkpoint 449\n",
      "model checkpoint 522\n",
      "model checkpoint 525\n",
      "model checkpoint 526\n",
      "model checkpoint 581\n",
      "model checkpoint 591\n",
      "model checkpoint 594\n",
      "model checkpoint 626\n",
      "model checkpoint 636\n",
      "model checkpoint 749\n",
      "model checkpoint 913\n",
      "model checkpoint 970\n",
      "model checkpoint 973\n",
      "epoch 1000: final trn loss = 4.729685450310076 trn metrics {'MSE': 4.729685450310076}\n",
      "val metrics {'MSE': 12.987164088899632}\n",
      "setting best model from epoch 973\n",
      "--- 2.624330520629883 seconds ---\n",
      "trn MSE 3.7372478765424177\n",
      "test MSE 10.721296196782767\n"
     ]
    }
   ],
   "source": [
    "# Train model\n",
    "activation = 'ReLU'\n",
    "batch_size = 50\n",
    "random_state = 0\n",
    "lr = 0.001\n",
    "n_epochs = 1000\n",
    "loss = 'MSE'\n",
    "metrics = []\n",
    "weight_init = 'he_norm'\n",
    "hidden_layers = (100, )\n",
    "\n",
    "\n",
    "start_time = time.time()\n",
    "nn = NeuralNetwork(hidden=hidden_layers, \n",
    "                   init_weights=weight_init,\n",
    "                   loss = loss,\n",
    "                   activation=activation,\n",
    "                   shuffle=True,\n",
    "                   random_state=random_state,\n",
    "                   metrics=metrics,\n",
    "                   verbose=False,\n",
    "                   mode='regression'\n",
    "                   )\n",
    "nn.train(X_trn_norm, y_trn, \n",
    "         n_epochs=n_epochs,\n",
    "         batch_size=batch_size, \n",
    "         early_stop=None, #('accuracy', 100),\n",
    "         lr=lr, \n",
    "         val_data=(X_test_norm, y_test),\n",
    "         save_best=True)\n",
    "y_pred_trn = nn.predict(X_trn_norm)\n",
    "y_pred_test = nn.predict(X_test_norm)\n",
    "delta_1 = time.time() - start_time\n",
    "print(\"--- %s seconds ---\" % (delta_1))\n",
    "print('trn MSE', mean_squared_error(y_pred_trn, y_trn))\n",
    "print('test MSE', mean_squared_error(y_pred_test, y_test))"
   ]
  },
  {
   "cell_type": "code",
   "execution_count": 5,
   "metadata": {},
   "outputs": [
    {
     "data": {
      "image/png": "[encoded data removed]",
      "text/plain": [
       "<Figure size 432x288 with 1 Axes>"
      ]
     },
     "metadata": {
      "needs_background": "light"
     },
     "output_type": "display_data"
    }
   ],
   "source": [
    "# Plot neural network history\n",
    "loss = 'MSE'\n",
    "fig_size = (6, 6)\n",
    "x_axis = np.arange(len(nn.trn_metric_hist[loss]))\n",
    "plt.plot(x_axis, nn.trn_metric_hist[loss], \n",
    "         c='r', linewidth=2, label='trn')\n",
    "plt.plot(x_axis, nn.val_metric_hist[loss], \n",
    "         c='b', linewidth=2, label='val')\n",
    "plt.xlabel('epoch', fontsize=18)\n",
    "plt.ylabel(loss+' (loss)', \n",
    "           fontsize=18)\n",
    "plt.legend(prop={'size': 14})\n",
    "plt.title('andreiNet model history', fontsize=22)\n",
    "plt.show()"
   ]
  },
  {
   "cell_type": "code",
   "execution_count": 6,
   "metadata": {},
   "outputs": [
    {
     "name": "stderr",
     "output_type": "stream",
     "text": [
      "Using TensorFlow backend.\n"
     ]
    },
    {
     "name": "stdout",
     "output_type": "stream",
     "text": [
      "--- 7.872596025466919 seconds ---\n",
      "trn MSE 3.5464524454846917\n",
      "test MSE 11.821644092333917\n"
     ]
    }
   ],
   "source": [
    "# Train Keras model\n",
    "import keras\n",
    "from keras.models import Sequential\n",
    "from keras.layers import Dense, Dropout, Activation\n",
    "from keras.optimizers import SGD\n",
    "import tensorflow as tf\n",
    "from tensorflow import set_random_seed\n",
    "set_random_seed(random_state)\n",
    "tf.logging.set_verbosity(tf.logging.ERROR)\n",
    "\n",
    "np.random.seed(random_state)\n",
    "start_time = time.time()\n",
    "\n",
    "model = Sequential()\n",
    "model.add(Dense(100, activation=activation.lower(), \n",
    "                input_dim=X_trn_norm.shape[1], \n",
    "                kernel_initializer='he_normal'))\n",
    "model.add(Dense(1, activation='linear',))\n",
    "\n",
    "sgd = SGD(lr=lr, decay=0.0, momentum=0.00, nesterov=False)\n",
    "\n",
    "model.compile(loss='MSE',\n",
    "              optimizer=sgd,\n",
    "              metrics=[])\n",
    "keras_hist = model.fit(X_trn_norm, y_trn,\n",
    "                       epochs=n_epochs,\n",
    "                       validation_data=(X_test_norm, y_test),\n",
    "                       batch_size=batch_size,\n",
    "                       verbose=0)\n",
    "\n",
    "y_pred_trn_keras = model.predict(X_trn_norm)\n",
    "y_pred_test_keras = model.predict(X_test_norm)\n",
    "delta_2 = time.time() - start_time\n",
    "del model\n",
    "print(\"--- %s seconds ---\" % (delta_2))\n",
    "print('trn MSE', mean_squared_error(y_pred_trn_keras, y_trn))\n",
    "print('test MSE', mean_squared_error(y_pred_test_keras, y_test))"
   ]
  },
  {
   "cell_type": "code",
   "execution_count": 7,
   "metadata": {},
   "outputs": [
    {
     "data": {
      "image/png": "[encoded data removed]",
      "text/plain": [
       "<Figure size 432x432 with 1 Axes>"
      ]
     },
     "metadata": {
      "needs_background": "light"
     },
     "output_type": "display_data"
    }
   ],
   "source": [
    "# Keras training history\n",
    "fig_size = (6, 6)\n",
    "x_axis = np.arange(n_epochs)\n",
    "plt.figure(figsize=fig_size)\n",
    "\n",
    "plt.plot(x_axis, keras_hist.history['loss'], \n",
    "         c='r', linewidth=2, label='trn')\n",
    "plt.plot(x_axis, keras_hist.history['val_loss'], \n",
    "         c='b', linewidth=2, label='val')\n",
    "plt.xlabel('epoch', fontsize=18)\n",
    "plt.ylabel('accuracy', fontsize=18)\n",
    "plt.legend(prop={'size': 14})\n",
    "\n",
    "plt.title('Keras model history', fontsize=22)\n",
    "plt.show()"
   ]
  },
  {
   "cell_type": "code",
   "execution_count": 8,
   "metadata": {},
   "outputs": [
    {
     "data": {
      "image/png": "[encoded data removed]",
      "text/plain": [
       "<Figure size 432x432 with 1 Axes>"
      ]
     },
     "metadata": {
      "needs_background": "light"
     },
     "output_type": "display_data"
    }
   ],
   "source": [
    "# compare training time\n",
    "plt.figure(figsize=(6, 6))\n",
    "trn_times = [delta_1, delta_2]\n",
    "y_pos = [0, 1]\n",
    "plt.bar(y_pos, trn_times, color=['blue', 'red'])\n",
    "plt.xticks(y_pos, ['andreiNet', 'Keras'], fontsize=16) \n",
    "plt.ylabel('training time (sec)', fontsize=16)\n",
    "plt.show()"
   ]
  }
 ],
 "metadata": {
  "kernelspec": {
   "display_name": "Python 3",
   "language": "python",
   "name": "python3"
  },
  "language_info": {
   "codemirror_mode": {
    "name": "ipython",
    "version": 3
   },
   "file_extension": ".py",
   "mimetype": "text/x-python",
   "name": "python",
   "nbconvert_exporter": "python",
   "pygments_lexer": "ipython3",
   "version": "3.6.8"
  }
 },
 "nbformat": 4,
 "nbformat_minor": 2
}
