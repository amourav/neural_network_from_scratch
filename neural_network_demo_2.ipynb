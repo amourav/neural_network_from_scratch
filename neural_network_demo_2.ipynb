{
 "cells": [
  {
   "cell_type": "code",
   "execution_count": 1,
   "metadata": {},
   "outputs": [],
   "source": [
    "from andreiNet.neural_net import NeuralNetwork\n",
    "from andreiNet.utils import norm_data, one_hot_encode"
   ]
  },
  {
   "cell_type": "code",
   "execution_count": 2,
   "metadata": {},
   "outputs": [],
   "source": [
    "from sklearn import datasets\n",
    "from sklearn.model_selection import train_test_split\n",
    "from sklearn.metrics import mean_squared_error\n",
    "import time\n",
    "import numpy as np\n",
    "import matplotlib.pyplot as plt"
   ]
  },
  {
   "cell_type": "code",
   "execution_count": 3,
   "metadata": {},
   "outputs": [
    {
     "name": "stdout",
     "output_type": "stream",
     "text": [
      "X_trn.shape = (253, 4), X_test.shape = (253, 4)\n"
     ]
    }
   ],
   "source": [
    "boston = datasets.load_boston()\n",
    "\n",
    "X = boston.data  \n",
    "y = boston.target\n",
    "\n",
    "#Choose Features \\\n",
    "feature_idxs = [0, 1, 2, 3] # SET FEATURES BY INDEX <------------------\n",
    "\n",
    "#feature_names = ['Sepal Length', 'Sepal Width', 'Petal Length', 'Petal Width']\n",
    "#xlbl, ylbl = feature_names[feature_idxs[0]], feature_names[feature_idxs[1]] \n",
    "# We will also split the dataset into training and testing so we can evaluate the kNN classifier\n",
    "X_trn_, X_test_, y_trn, y_test = train_test_split(X, \n",
    "                                                 y, \n",
    "                                                 test_size=0.5, \n",
    "                                                 random_state=2)\n",
    "X_trn, X_test = X_trn_[:, feature_idxs], X_test_[:, feature_idxs]\n",
    "\n",
    "print(\"X_trn.shape = {}, X_test.shape = {}\".format(X_trn.shape, X_test.shape))\n",
    "X_trn_norm, (trn_mean, trn_std) = norm_data(X_trn)\n",
    "X_test_norm = (X_test - trn_mean) / trn_std"
   ]
  },
  {
   "cell_type": "code",
   "execution_count": 4,
   "metadata": {},
   "outputs": [
    {
     "name": "stdout",
     "output_type": "stream",
     "text": [
      "epoch 1000: final trn loss = 33.37281087558969 trn metrics {'MSE': 33.37281087558969}\n",
      "val metrics {'MSE': 68.69008495529388}\n",
      "--- 1.9929285049438477 seconds ---\n",
      "trn MSE 542.44209486166\n",
      "test MSE 641.8517391304348\n"
     ]
    }
   ],
   "source": [
    "# Train model\n",
    "activation = 'ReLU'\n",
    "batch_size = 50\n",
    "random_state = 0\n",
    "lr = 0.001\n",
    "n_epochs = 1000\n",
    "loss = 'MSE'\n",
    "metrics = []\n",
    "weight_init = 'he_norm'\n",
    "hidden_layers = (100, )\n",
    "\n",
    "\n",
    "start_time = time.time()\n",
    "nn = NeuralNetwork(hidden=hidden_layers, \n",
    "                   init_weights=weight_init,\n",
    "                   loss = loss,\n",
    "                   activation=activation,\n",
    "                   shuffle=True,\n",
    "                   random_state=random_state,\n",
    "                   metrics=metrics,\n",
    "                   verbose=False,\n",
    "                   mode='regression'\n",
    "                   )\n",
    "nn.train(X_trn_norm, y_trn, \n",
    "         n_epochs=n_epochs,\n",
    "         batch_size=batch_size, \n",
    "         early_stop=None, #('accuracy', 100),\n",
    "         lr=lr, \n",
    "         val_data=(X_test_norm, y_test),\n",
    "         save_best=False)\n",
    "y_pred_trn = nn.predict(X_trn_norm).argmax(axis=1)\n",
    "y_pred_test = nn.predict(X_test_norm).argmax(axis=1)\n",
    "delta_1 = time.time() - start_time\n",
    "print(\"--- %s seconds ---\" % (delta_1))\n",
    "print('trn MSE', mean_squared_error(y_pred_trn, y_trn))\n",
    "print('test MSE', mean_squared_error(y_pred_test, y_test))"
   ]
  },
  {
   "cell_type": "code",
   "execution_count": 6,
   "metadata": {},
   "outputs": [
    {
     "name": "stderr",
     "output_type": "stream",
     "text": [
      "Using TensorFlow backend.\n"
     ]
    },
    {
     "name": "stdout",
     "output_type": "stream",
     "text": [
      "--- 7.3780059814453125 seconds ---\n",
      "trn acc 542.44209486166\n",
      "test acc 641.8517391304348\n"
     ]
    }
   ],
   "source": [
    "# Train Keras model\n",
    "import keras\n",
    "from keras.models import Sequential\n",
    "from keras.layers import Dense, Dropout, Activation\n",
    "from keras.optimizers import SGD\n",
    "import tensorflow as tf\n",
    "tf.logging.set_verbosity(tf.logging.ERROR)\n",
    "\n",
    "np.random.seed(random_state)\n",
    "start_time = time.time()\n",
    "\n",
    "model = Sequential()\n",
    "model.add(Dense(100, activation=activation.lower(), \n",
    "                input_dim=X_trn_norm.shape[1], \n",
    "                kernel_initializer='he_normal'))\n",
    "model.add(Dense(1, activation='linear',))\n",
    "\n",
    "sgd = SGD(lr=lr, decay=0.0, momentum=0.00, nesterov=False)\n",
    "\n",
    "model.compile(loss='MSE',\n",
    "              optimizer=sgd,\n",
    "              metrics=[])\n",
    "\n",
    "keras_hist = model.fit(X_trn_norm, y_trn,\n",
    "                       epochs=n_epochs,\n",
    "                       validation_data=(X_test_norm, y_test),\n",
    "                       batch_size=batch_size,\n",
    "                       verbose=0)\n",
    "y_pred_trn = model.predict(X_trn_norm).argmax(axis=1)\n",
    "y_pred_test = model.predict(X_test_norm).argmax(axis=1)\n",
    "delta_2 = time.time() - start_time\n",
    "print(\"--- %s seconds ---\" % (delta_2))\n",
    "print('trn acc', mean_squared_error(y_pred_trn, y_trn))\n",
    "print('test acc', mean_squared_error(y_pred_test, y_test))"
   ]
  },
  {
   "cell_type": "code",
   "execution_count": 7,
   "metadata": {},
   "outputs": [
    {
     "data": {
      "image/png": "[encoded data removed]",
      "text/plain": [
       "<Figure size 432x432 with 1 Axes>"
      ]
     },
     "metadata": {
      "needs_background": "light"
     },
     "output_type": "display_data"
    }
   ],
   "source": [
    "# Keras training history\n",
    "fig_size = (6, 6)\n",
    "x_axis = np.arange(n_epochs)\n",
    "plt.figure(figsize=fig_size)\n",
    "\n",
    "plt.plot(x_axis, keras_hist.history['loss'], \n",
    "         c='r', linewidth=2, label='trn')\n",
    "plt.plot(x_axis, keras_hist.history['val_loss'], \n",
    "         c='b', linewidth=2, label='val')\n",
    "plt.xlabel('epoch', fontsize=18)\n",
    "plt.ylabel('accuracy', fontsize=18)\n",
    "plt.legend(prop={'size': 14})\n",
    "\n",
    "plt.title('Keras model history', fontsize=22)\n",
    "plt.show()"
   ]
  },
  {
   "cell_type": "code",
   "execution_count": 8,
   "metadata": {},
   "outputs": [
    {
     "data": {
      "image/png": "[encoded data removed]",
      "text/plain": [
       "<Figure size 432x432 with 1 Axes>"
      ]
     },
     "metadata": {
      "needs_background": "light"
     },
     "output_type": "display_data"
    }
   ],
   "source": [
    "# compare training time\n",
    "plt.figure(figsize=(6, 6))\n",
    "trn_times = [delta_1, delta_2]\n",
    "y_pos = [0, 1]\n",
    "plt.bar(y_pos, trn_times, color=['blue', 'red'])\n",
    "plt.xticks(y_pos, ['andreiNet', 'Keras'], fontsize=16) \n",
    "plt.ylabel('training time (sec)', fontsize=16)\n",
    "plt.show()"
   ]
  }
 ],
 "metadata": {
  "kernelspec": {
   "display_name": "Python 3",
   "language": "python",
   "name": "python3"
  },
  "language_info": {
   "codemirror_mode": {
    "name": "ipython",
    "version": 3
   },
   "file_extension": ".py",
   "mimetype": "text/x-python",
   "name": "python",
   "nbconvert_exporter": "python",
   "pygments_lexer": "ipython3",
   "version": "3.6.8"
  }
 },
 "nbformat": 4,
 "nbformat_minor": 2
}
